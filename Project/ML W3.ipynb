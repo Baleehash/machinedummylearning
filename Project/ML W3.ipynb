{
 "cells": [
  {
   "cell_type": "code",
   "execution_count": 1,
   "id": "d0332413-c3f0-48e8-84cf-442086340226",
   "metadata": {},
   "outputs": [
    {
     "name": "stdout",
     "output_type": "stream",
     "text": [
      "     Outlook Temperature Humidity    Wind Play\n",
      "0      Sunny         Hot     High    Weak   No\n",
      "1      Sunny         Hot     High  Strong   No\n",
      "2   Overcast         Hot     High    Weak  Yes\n",
      "3       Rain        Mild   Normal    Weak  Yes\n",
      "4       Rain        Cool   Normal  Strong  Yes\n",
      "5       Rain        Cool     High    Weak   No\n",
      "6   Overcast        Mild   Normal    Weak  Yes\n",
      "7      Sunny        Mild   Normal    Weak   No\n",
      "8      Sunny        Cool     High  Strong  Yes\n",
      "9       Rain        Mild   Normal  Strong  Yes\n",
      "10     Sunny        Cool   Normal    Weak  Yes\n",
      "11  Overcast        Mild     High  Strong  Yes\n",
      "12  Overcast         Hot   Normal  Strong  Yes\n",
      "13      Rain        Mild   Normal    Weak   No\n"
     ]
    }
   ],
   "source": [
    "import pandas as pd\n",
    "\n",
    "# Membuat dataset Play Tennis\n",
    "data = {\n",
    "    'Outlook': ['Sunny', 'Sunny', 'Overcast', 'Rain', 'Rain', 'Rain', 'Overcast', 'Sunny', 'Sunny', 'Rain', 'Sunny', 'Overcast', 'Overcast', 'Rain'],\n",
    "    'Temperature': ['Hot', 'Hot', 'Hot', 'Mild', 'Cool', 'Cool', 'Mild', 'Mild', 'Cool', 'Mild', 'Cool', 'Mild', 'Hot', 'Mild'],\n",
    "    'Humidity': ['High', 'High', 'High', 'Normal', 'Normal', 'High', 'Normal', 'Normal', 'High', 'Normal', 'Normal', 'High', 'Normal', 'Normal'],\n",
    "    'Wind': ['Weak', 'Strong', 'Weak', 'Weak', 'Strong', 'Weak', 'Weak', 'Weak', 'Strong', 'Strong', 'Weak', 'Strong', 'Strong', 'Weak'],\n",
    "    'Play': ['No', 'No', 'Yes', 'Yes', 'Yes', 'No', 'Yes', 'No', 'Yes', 'Yes', 'Yes', 'Yes', 'Yes', 'No']\n",
    "}\n",
    "\n",
    "df = pd.DataFrame(data)\n",
    "print(df)"
   ]
  },
  {
   "cell_type": "code",
   "execution_count": 4,
   "id": "c4083673-c7e3-46c7-9784-b2a0dca5ff7e",
   "metadata": {},
   "outputs": [
    {
     "name": "stdout",
     "output_type": "stream",
     "text": [
      "    Outlook  Temperature  Humidity  Wind  Play\n",
      "0         2            1         0     1     0\n",
      "1         2            1         0     0     0\n",
      "2         0            1         0     1     1\n",
      "3         1            2         1     1     1\n",
      "4         1            0         1     0     1\n",
      "5         1            0         0     1     0\n",
      "6         0            2         1     1     1\n",
      "7         2            2         1     1     0\n",
      "8         2            0         0     0     1\n",
      "9         1            2         1     0     1\n",
      "10        2            0         1     1     1\n",
      "11        0            2         0     0     1\n",
      "12        0            1         1     0     1\n",
      "13        1            2         1     1     0\n"
     ]
    }
   ],
   "source": [
    "from sklearn.preprocessing import LabelEncoder\n",
    "\n",
    "#Inisialisassi LabelEncoder\n",
    "label_encoder = {}\n",
    "for column in df.columns:\n",
    "    le = LabelEncoder()\n",
    "    df[column] = le.fit_transform(df[column])\n",
    "    label_encoder[column] = le\n",
    "\n",
    "print(df)"
   ]
  },
  {
   "cell_type": "code",
   "execution_count": 14,
   "id": "17066b51-ac83-407d-a21b-6513c1cb3713",
   "metadata": {},
   "outputs": [],
   "source": [
    "#Memisahkan Fitur dan Label\n",
    "X = df.drop('Play', axis=1) #fitur\n",
    "y = df['Play'] #Label"
   ]
  },
  {
   "cell_type": "code",
   "execution_count": 17,
   "id": "a1a1503a-eedd-44e9-9adf-dc12878b8a47",
   "metadata": {},
   "outputs": [
    {
     "name": "stdout",
     "output_type": "stream",
     "text": [
      "    Outlook  Temperature  Humidity  Wind\n",
      "9         1            2         1     0\n",
      "11        0            2         0     0\n",
      "0         2            1         0     1\n",
      "12        0            1         1     0\n",
      "9     1\n",
      "11    1\n",
      "0     0\n",
      "12    1\n",
      "Name: Play, dtype: int32\n"
     ]
    }
   ],
   "source": [
    "print(X_test)\n",
    "print(y_test)"
   ]
  },
  {
   "cell_type": "code",
   "execution_count": 13,
   "id": "f0fa6417-97e1-437a-b4f6-b34adaed5210",
   "metadata": {},
   "outputs": [
    {
     "name": "stdout",
     "output_type": "stream",
     "text": [
      "Akurasi Decision Tree: 0.75\n",
      "              precision    recall  f1-score   support\n",
      "\n",
      "           0       0.50      1.00      0.67         1\n",
      "           1       1.00      0.67      0.80         3\n",
      "\n",
      "    accuracy                           0.75         4\n",
      "   macro avg       0.75      0.83      0.73         4\n",
      "weighted avg       0.88      0.75      0.77         4\n",
      "\n"
     ]
    }
   ],
   "source": [
    "from sklearn.model_selection import train_test_split\n",
    "from sklearn.tree import DecisionTreeClassifier\n",
    "from sklearn.metrics import accuracy_score, confusion_matrix, classification_report\n",
    "\n",
    "# Bagi dataset menjadi data latih dan data uji\n",
    "X_train, X_test, y_train, y_test = train_test_split(X, y, test_size=0.25, random_state=42)\n",
    "\n",
    "# Build model Decision Tree\n",
    "dt_model = DecisionTreeClassifier(random_state=42)\n",
    "dt_model.fit(X_train, y_train)\n",
    "\n",
    "# Prediksi Label untuk di uji\n",
    "y_pred_dt = dt_model.predict(X_test)\n",
    "\n",
    "# Evaluasi Model\n",
    "print(\"Akurasi Decision Tree:\", accuracy_score(y_test, y_pred_dt))\n",
    "print(classification_report(y_test, y_pred_dt))\n"
   ]
  },
  {
   "cell_type": "code",
   "execution_count": 22,
   "id": "9acb30cf-b7ee-45a1-b35d-6b93facbc708",
   "metadata": {},
   "outputs": [
    {
     "name": "stdout",
     "output_type": "stream",
     "text": [
      "|--- Outlook <= 0.50\n",
      "|   |--- class: 1\n",
      "|--- Outlook >  0.50\n",
      "|   |--- Temperature <= 0.50\n",
      "|   |   |--- Wind <= 0.50\n",
      "|   |   |   |--- class: 1\n",
      "|   |   |--- Wind >  0.50\n",
      "|   |   |   |--- Humidity <= 0.50\n",
      "|   |   |   |   |--- class: 0\n",
      "|   |   |   |--- Humidity >  0.50\n",
      "|   |   |   |   |--- class: 1\n",
      "|   |--- Temperature >  0.50\n",
      "|   |   |--- Outlook <= 1.50\n",
      "|   |   |   |--- class: 0\n",
      "|   |   |--- Outlook >  1.50\n",
      "|   |   |   |--- class: 0\n",
      "\n"
     ]
    }
   ],
   "source": [
    "from sklearn.tree import export_text\n",
    "\n",
    "#Menapilkan represent teks dari decision tree\n",
    "tree_rules = export_text(dt_model, feature_names=list(X.columns))\n",
    "print(tree_rules)"
   ]
  },
  {
   "cell_type": "code",
   "execution_count": 31,
   "id": "32f9976c-f7d3-4155-965a-20207bf5b646",
   "metadata": {},
   "outputs": [],
   "source": [
    "#function predict \n",
    "def predict_play_tennis(outlook, temperature, humidity, wind):\n",
    "    #Encode input menggunakan LabelEnoceder\n",
    "    outlook_encoded = label_encoder['Outlook'].transform([outlook])[0]\n",
    "    temperature_encoded = label_encoder['Temperature'].transform([temperature])[0]\n",
    "    humidity_encoded = label_encoder['Humidity'].transform([humidity])[0]\n",
    "    wind_encoded = label_encoder['Wind'].transform([wind])[0]\n",
    "\n",
    "    input_data = [[ outlook_encoded, temperature_encoded, humidity_encoded, wind_encoded]]\n",
    "\n",
    "    prediction = dt_model.predict(input_data)\n",
    "    return \"Yes\" if prediction[0] == 1 else \"No\""
   ]
  },
  {
   "cell_type": "code",
   "execution_count": 32,
   "id": "7baa9a86-29dc-4779-8b7b-37b53e7fc5e8",
   "metadata": {},
   "outputs": [
    {
     "name": "stdout",
     "output_type": "stream",
     "text": [
      "No\n",
      "Yes\n"
     ]
    },
    {
     "name": "stderr",
     "output_type": "stream",
     "text": [
      "C:\\Users\\Risma\\anaconda3\\Lib\\site-packages\\sklearn\\base.py:493: UserWarning: X does not have valid feature names, but DecisionTreeClassifier was fitted with feature names\n",
      "  warnings.warn(\n",
      "C:\\Users\\Risma\\anaconda3\\Lib\\site-packages\\sklearn\\base.py:493: UserWarning: X does not have valid feature names, but DecisionTreeClassifier was fitted with feature names\n",
      "  warnings.warn(\n"
     ]
    }
   ],
   "source": [
    "# Example predictions\n",
    "print(predict_play_tennis(\"Sunny\", \"Cool\", \"High\", \"Weak\"))\n",
    "print(predict_play_tennis(\"Overcast\", \"Mild\", \"Normal\", \"Weak\"))"
   ]
  }
 ],
 "metadata": {
  "kernelspec": {
   "display_name": "Python 3 (ipykernel)",
   "language": "python",
   "name": "python3"
  },
  "language_info": {
   "codemirror_mode": {
    "name": "ipython",
    "version": 3
   },
   "file_extension": ".py",
   "mimetype": "text/x-python",
   "name": "python",
   "nbconvert_exporter": "python",
   "pygments_lexer": "ipython3",
   "version": "3.12.4"
  }
 },
 "nbformat": 4,
 "nbformat_minor": 5
}
